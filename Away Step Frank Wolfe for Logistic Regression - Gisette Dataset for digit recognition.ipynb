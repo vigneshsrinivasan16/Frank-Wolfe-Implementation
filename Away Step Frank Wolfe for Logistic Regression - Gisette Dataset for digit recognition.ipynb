{
 "cells": [
  {
   "cell_type": "code",
   "execution_count": 4,
   "id": "b585441c",
   "metadata": {},
   "outputs": [],
   "source": [
    "import pandas as pd\n",
    "import numpy as np\n",
    "import matplotlib\n",
    "import matplotlib.pyplot as plt"
   ]
  },
  {
   "cell_type": "code",
   "execution_count": 6,
   "id": "b9f48e04",
   "metadata": {},
   "outputs": [],
   "source": [
    "#Data Preprocessing\n",
    "#This section of code uses the code from https://github.com/AyanPahari/SVM-on-GISETTE-Dataset\n",
    "\n",
    "fil= open(\"gisette_train.data\") #opening the file\n",
    "X_train=[]\n",
    "for row in fil.readlines(): #reading the file line by line\n",
    "    X_train.append((row.strip()).split()) #to get the values tuple by tuple without any whitespaces\n",
    "fil.close()\n",
    "#after this train will contain all the data in form of a numpy array\n",
    "\n",
    "#repeating the same thing for test and valid samples as well\n",
    "\n",
    "fil= open(\"gisette_train.labels\")\n",
    "y_train=[]\n",
    "for row in fil.readlines():\n",
    "    y_train.append((row.strip()).split())\n",
    "fil.close()\n",
    "\n",
    "fil= open(\"gisette_valid.data\")\n",
    "X_test=[]\n",
    "for row in fil.readlines():\n",
    "    X_test.append((row.strip()).split())\n",
    "fil.close()\n",
    "\n",
    "fil= open(\"gisette_valid.labels\")\n",
    "y_test=[]\n",
    "for row in fil.readlines():\n",
    "    y_test.append((row.strip()).split())\n",
    "fil.close()\n",
    "\n",
    "#some type conversions\n",
    "X_train=np.array(X_train).astype(int)\n",
    "y_train= np.array(y_train).astype(int)[:,0]\n",
    "\n",
    "#some type conversions\n",
    "X_test=np.array(X_test).astype(int)\n",
    "y_test= np.array(y_test).astype(int)[:,0]"
   ]
  },
  {
   "cell_type": "code",
   "execution_count": 7,
   "id": "08296f32",
   "metadata": {},
   "outputs": [],
   "source": [
    "#converting from numpy array to pandas dataframe\n",
    "X = pd.DataFrame(X_train)\n",
    "y = y_train\n",
    "val_train = pd.DataFrame(X_test)\n",
    "val_test = y_test"
   ]
  },
  {
   "cell_type": "code",
   "execution_count": 8,
   "id": "b3ede8b5",
   "metadata": {},
   "outputs": [],
   "source": [
    "import sklearn\n",
    "from sklearn import preprocessing"
   ]
  },
  {
   "cell_type": "code",
   "execution_count": 9,
   "id": "47fa9526",
   "metadata": {},
   "outputs": [],
   "source": [
    "#Data Scaling to [-1,1] for Logistic Regression\n",
    "\n",
    "X_np = np.array(X)\n",
    "minmaxscaler = preprocessing.MinMaxScaler(feature_range = (-1,1))\n",
    "minmaxscaler.fit(X_np)\n",
    "X_np_scaled = minmaxscaler.transform(X_np)"
   ]
  },
  {
   "cell_type": "code",
   "execution_count": 10,
   "id": "20f92768",
   "metadata": {},
   "outputs": [],
   "source": [
    "#Random Permutation\n",
    "perm = np.random.permutation(X_np_scaled.shape[0])\n",
    "new_range = perm[:2000]\n",
    "\n",
    "#Picking only 2000 samples to match results from paper\n",
    "X_new_np_scaled = X_np_scaled[new_range]\n",
    "y_new = y[new_range]"
   ]
  },
  {
   "cell_type": "code",
   "execution_count": 11,
   "id": "0e985022",
   "metadata": {},
   "outputs": [],
   "source": [
    "#Activation function and Prediction Accuracy Fn\n",
    "\n",
    "def sigmoid(z):\n",
    "    s = 1/(1+np.exp(-z))\n",
    "    return s\n",
    "\n",
    "def prediction_accuracy(X,y,w):\n",
    "    z = np.matmul(X,w)\n",
    "    preds = sigmoid(z)\n",
    "    y_hat = np.zeros(y.shape[0])\n",
    "    for i in range(len(preds)):\n",
    "        if preds[i]>0.5:\n",
    "            y_hat[i] = 1\n",
    "        else:\n",
    "            y_hat[i] = -1\n",
    "    y_hat = np.array(y_hat)\n",
    "    count = 0\n",
    "    for i in range(y.shape[0]):\n",
    "        if y[i] == y_hat[i]:\n",
    "            count+=1\n",
    "    acc = count/y.shape[0]\n",
    "    return acc"
   ]
  },
  {
   "cell_type": "code",
   "execution_count": 12,
   "id": "12a8d538",
   "metadata": {},
   "outputs": [],
   "source": [
    "#Cost Function\n",
    "\n",
    "def LogisticCost(X,y,w):\n",
    "    z = -np.matmul(X,w)*y\n",
    "    m = X.shape[0]\n",
    "    cost = (1/m)*np.sum(np.log(1+np.exp(z)))\n",
    "    return cost   "
   ]
  },
  {
   "cell_type": "code",
   "execution_count": 13,
   "id": "74f4855a",
   "metadata": {},
   "outputs": [],
   "source": [
    "#Away Step FW functions for Logistic Regression \n",
    "\n",
    "def gradient_AFW(X,y,w): #gradient of func\n",
    "    z = -np.matmul(X,w)*y\n",
    "    dz = np.exp(z)/(1+np.exp(z))\n",
    "    dw = -(1/X.shape[0])*np.matmul(X.T,dz*y)\n",
    "    return dw\n",
    "        \n",
    "def LP_LR_AFW_min(X,y,w,S): #Frank Wolfe Step\n",
    "    idx = np.argmax(np.abs(gradient_AFW(X,y,w)))\n",
    "    sign = np.sign(gradient_AFW(X,y,w)[idx])\n",
    "    return -sign*S[:,idx],idx\n",
    "\n",
    "def LP_LR_AFW_max(X,y,w,S): #Away Step\n",
    "    S_matrix = []\n",
    "    S_indices = []\n",
    "    for key,value in S.items():\n",
    "        S_matrix.append(value)\n",
    "        S_indices.append(key)\n",
    "    S_matrix = np.array(S_matrix)\n",
    "    idx = np.argmax(np.matmul(S_matrix,gradient_AFW(X,y,w)))\n",
    "    return S_matrix[idx],S_indices[idx]"
   ]
  },
  {
   "cell_type": "code",
   "execution_count": 21,
   "id": "aed594d6",
   "metadata": {},
   "outputs": [],
   "source": [
    "#Away Steps FW for Logistic Regression\n",
    "\n",
    "def FW_awaysteps_LR(w_init,epsilon1,epsilon2,S,alpha_0,L,X,y,max_iter):\n",
    "    w_0,index = LP_LR_AFW_min(X,y,w_init,S)\n",
    "    alpha_0[index] = 1\n",
    "    S_0 = {}\n",
    "    S_0[index] = w_0\n",
    "    it = 0\n",
    "    flag = None\n",
    "    itr = []\n",
    "    fn_values = []\n",
    "    endFlag = False\n",
    "    count1 = 0 #No of drop Steps\n",
    "    count = 0 #No of away step choices\n",
    "    while (it<=max_iter):\n",
    "        vt_FW,i_FW = LP_LR_AFW_min(X,y,w_0,S) #FW step\n",
    "        vt_A,i_A = LP_LR_AFW_max(X,y,w_0,S_0) #Away Step\n",
    "        if np.dot(gradient_AFW(X,y,w_0),w_0-vt_FW)>=np.dot(gradient_AFW(X,y,w_0),vt_A-w_0): #Stopping Criterion\n",
    "            d_t = w_0 - vt_FW\n",
    "            gamma_max = 1\n",
    "            flag = True\n",
    "        else:\n",
    "            d_t = vt_A - w_0\n",
    "            gamma_max = alpha_0[i_A]/(1-alpha_0[i_A])\n",
    "            count +=1 \n",
    "            flag = False\n",
    "        gamma_t = max(0,min(np.dot(gradient_AFW(X,y,w_0),d_t)/(L*(np.linalg.norm(d_t)**2)),gamma_max))\n",
    "        w_0 = w_0 - gamma_t*d_t\n",
    "        if np.dot(gradient_AFW(X,y,w_0),w_0-vt_FW)>=np.dot(gradient_AFW(X,y,w_0),vt_A-w_0):\n",
    "            alpha_0 = (1-gamma_t)*alpha_0\n",
    "            if i_FW in S_0:\n",
    "                alpha_0[i_FW] = alpha_0[i_FW]+gamma_t\n",
    "            else:\n",
    "                alpha_0[i_FW] = gamma_t\n",
    "            if gamma_t <(1-epsilon1):\n",
    "                S_0[i_FW] = vt_FW\n",
    "            elif gamma_t > 1-epsilon1:\n",
    "                S_0.clear()\n",
    "                S_0[i_FW] = vt_FW\n",
    "        else:\n",
    "            alpha_0 = (1+gamma_t)*alpha_0\n",
    "            if i_A in S_0:\n",
    "                alpha_0[i_A] = alpha_0[i_A]-gamma_t\n",
    "            if abs(gamma_t-gamma_max)<20*epsilon2: #tol to ensure weight zeroing \n",
    "                alpha_0[i_A] = 0\n",
    "                S_0.pop(i_A)\n",
    "                count1+=1 \n",
    "        if it%100 == 0:\n",
    "            print(\"Cost,gamma_t\",LogisticCost(X,y,w_0),gamma_t,flag)\n",
    "            alpha_lr[np.where(alpha_lr!=0)[0]]    \n",
    "        itr.append(it)\n",
    "        fn_values.append(LogisticCost(X,y,w_0)) \n",
    "        it = it+1\n",
    "        if abs(np.dot(gradient_AFW(X,y,w_0),(w_0-vt_FW)))<epsilon1: #Stopping Criterion\n",
    "            endFlag = True\n",
    "            break        \n",
    "    return fn_values,itr,w_0,count,count1"
   ]
  },
  {
   "cell_type": "code",
   "execution_count": 22,
   "id": "d5eb5aa2",
   "metadata": {},
   "outputs": [
    {
     "name": "stdout",
     "output_type": "stream",
     "text": [
      "Cost,gamma_t 3.8225379699388604 0.0943476914029132 True\n",
      "Cost,gamma_t 0.24041620042862838 0.0028458599739214145 True\n",
      "Cost,gamma_t 0.20716386346757124 0.0019711432299299282 True\n",
      "Cost,gamma_t 0.1887156404691056 0.0019658931519853963 False\n",
      "Cost,gamma_t 0.17695278914355214 0.0012886677022050613 False\n",
      "Cost,gamma_t 0.16890841166035472 0.0011652477886894505 False\n"
     ]
    }
   ],
   "source": [
    "#AFW Initialization\n",
    "\n",
    "tol_epsilon = 0.001 \n",
    "delta = 0.0001 #delta (from paper)\n",
    "tau = 10 #Paper l1 norm constraint\n",
    "L = 0.5 #Lipschitz (from paper)\n",
    "w = np.zeros(X.shape[1])\n",
    "l = np.random.permutation(X.shape[1])\n",
    "w[l[0:10]]=1 #randomly assign 1 to 10 weight elements\n",
    "w_init = w\n",
    "S_lr = tau*np.identity(X.shape[1]) #Positive Vertices of l1 norm ball, tau previously defined\n",
    "neg_S_lr = -S_lr #Negative vertices of l1 norm ball, tau as previously defined\n",
    "S_new = np.hstack((S_lr,neg_S_lr)) #All Vertices\n",
    "alpha_lr = np.zeros(S_new.shape[1]) #Weights for Away-Step vertices\n",
    "\n",
    "fn_values_AFW,itr_AFW,w_updated_AFW,count,count_drop = FW_awaysteps_LR(w_init,delta,tol_epsilon,S_new,alpha_lr,L,X_new_np_scaled,y_new,500)"
   ]
  },
  {
   "cell_type": "code",
   "execution_count": 23,
   "id": "3054423f",
   "metadata": {},
   "outputs": [
    {
     "name": "stdout",
     "output_type": "stream",
     "text": [
      "No of drop steps in AFW: 1\n"
     ]
    }
   ],
   "source": [
    "print(\"No of drop steps in AFW:\",count_drop)"
   ]
  },
  {
   "cell_type": "code",
   "execution_count": 25,
   "id": "75422a2d",
   "metadata": {},
   "outputs": [
    {
     "name": "stdout",
     "output_type": "stream",
     "text": [
      "AFW Training Accuracy 0.9398333333333333\n",
      "AFW Test Accuracy 0.937\n"
     ]
    }
   ],
   "source": [
    "#Prediction Accuracy for Away Step FW\n",
    "\n",
    "test_data_transform = minmaxscaler.transform(np.array(val_train)) #scaling data with same transform\n",
    "\n",
    "training_acc_AFW = prediction_accuracy(X_np_scaled,y,w_updated_AFW)\n",
    "print(\"AFW Training Accuracy\",training_acc_AFW)\n",
    "\n",
    "test_acc_AFW = prediction_accuracy(test_data_transform,val_test,w_updated_AFW)\n",
    "print(\"AFW Test Accuracy\",test_acc_AFW)"
   ]
  },
  {
   "cell_type": "code",
   "execution_count": 26,
   "id": "3ae29253",
   "metadata": {},
   "outputs": [
    {
     "name": "stdout",
     "output_type": "stream",
     "text": [
      "No of Feautures Selected by Away-Step FW: 55\n"
     ]
    }
   ],
   "source": [
    "print(\"No of Feautures Selected by Away-Step FW:\",len(np.where(w_updated_AFW!=0)[0]))"
   ]
  },
  {
   "cell_type": "code",
   "execution_count": 27,
   "id": "a564596c",
   "metadata": {},
   "outputs": [
    {
     "data": {
      "text/plain": [
       "<matplotlib.legend.Legend at 0x7fbf3e5a2190>"
      ]
     },
     "execution_count": 27,
     "metadata": {},
     "output_type": "execute_result"
    },
    {
     "data": {
      "image/png": "[encoded data removed]",
      "text/plain": [
       "<Figure size 640x480 with 1 Axes>"
      ]
     },
     "metadata": {},
     "output_type": "display_data"
    }
   ],
   "source": [
    "#Function-Value Plots\n",
    "\n",
    "plt.semilogy(itr_AFW,fn_values_AFW, label = 'Away Steps FW')\n",
    "plt.xlabel(\"Iterations\")\n",
    "plt.ylabel(\"Function Value\")\n",
    "plt.grid(True)\n",
    "plt.legend(loc = 'upper right')"
   ]
  },
  {
   "cell_type": "code",
   "execution_count": null,
   "id": "9298f3a2",
   "metadata": {},
   "outputs": [],
   "source": []
  }
 ],
 "metadata": {
  "kernelspec": {
   "display_name": "Python 3 (ipykernel)",
   "language": "python",
   "name": "python3"
  },
  "language_info": {
   "codemirror_mode": {
    "name": "ipython",
    "version": 3
   },
   "file_extension": ".py",
   "mimetype": "text/x-python",
   "name": "python",
   "nbconvert_exporter": "python",
   "pygments_lexer": "ipython3",
   "version": "3.8.8"
  }
 },
 "nbformat": 4,
 "nbformat_minor": 5
}
