{
 "cells": [
  {
   "cell_type": "code",
   "execution_count": 1,
   "id": "b585441c",
   "metadata": {},
   "outputs": [],
   "source": [
    "import pandas as pd\n",
    "import numpy as np\n",
    "import matplotlib\n",
    "import matplotlib.pyplot as plt"
   ]
  },
  {
   "cell_type": "code",
   "execution_count": 2,
   "id": "b9f48e04",
   "metadata": {},
   "outputs": [],
   "source": [
    "#Data Preprocessing\n",
    "#This section of code uses the code from https://github.com/AyanPahari/SVM-on-GISETTE-Dataset\n",
    "\n",
    "fil= open(\"gisette_train.data\") #opening the file\n",
    "X_train=[]\n",
    "for row in fil.readlines(): #reading the file line by line\n",
    "    X_train.append((row.strip()).split()) #to get the values tuple by tuple without any whitespaces\n",
    "fil.close()\n",
    "#after this train will contain all the data in form of a numpy array\n",
    "\n",
    "#repeating the same thing for test and valid samples as well\n",
    "\n",
    "fil= open(\"gisette_train.labels\")\n",
    "y_train=[]\n",
    "for row in fil.readlines():\n",
    "    y_train.append((row.strip()).split())\n",
    "fil.close()\n",
    "\n",
    "fil= open(\"gisette_valid.data\")\n",
    "X_test=[]\n",
    "for row in fil.readlines():\n",
    "    X_test.append((row.strip()).split())\n",
    "fil.close()\n",
    "\n",
    "fil= open(\"gisette_valid.labels\")\n",
    "y_test=[]\n",
    "for row in fil.readlines():\n",
    "    y_test.append((row.strip()).split())\n",
    "fil.close()\n",
    "\n",
    "#some type conversions\n",
    "X_train=np.array(X_train).astype(int)\n",
    "y_train= np.array(y_train).astype(int)[:,0]\n",
    "\n",
    "#some type conversions\n",
    "X_test=np.array(X_test).astype(int)\n",
    "y_test= np.array(y_test).astype(int)[:,0]"
   ]
  },
  {
   "cell_type": "code",
   "execution_count": 3,
   "id": "08296f32",
   "metadata": {},
   "outputs": [],
   "source": [
    "#converting from numpy array to pandas dataframe\n",
    "X = pd.DataFrame(X_train)\n",
    "y = y_train\n",
    "val_train = pd.DataFrame(X_test)\n",
    "val_test = y_test"
   ]
  },
  {
   "cell_type": "code",
   "execution_count": 4,
   "id": "b3ede8b5",
   "metadata": {},
   "outputs": [],
   "source": [
    "import sklearn\n",
    "from sklearn import preprocessing"
   ]
  },
  {
   "cell_type": "code",
   "execution_count": 5,
   "id": "47fa9526",
   "metadata": {},
   "outputs": [],
   "source": [
    "#Data Scaling to [-1,1] for Logistic Regression\n",
    "\n",
    "X_np = np.array(X)\n",
    "minmaxscaler = preprocessing.MinMaxScaler(feature_range = (-1,1))\n",
    "minmaxscaler.fit(X_np)\n",
    "X_np_scaled = minmaxscaler.transform(X_np)"
   ]
  },
  {
   "cell_type": "code",
   "execution_count": 6,
   "id": "20f92768",
   "metadata": {},
   "outputs": [],
   "source": [
    "#Random Permutation\n",
    "perm = np.random.permutation(X_np_scaled.shape[0])\n",
    "new_range = perm[:2000]\n",
    "\n",
    "#Picking only 2000 samples to match results from paper\n",
    "X_new_np_scaled = X_np_scaled[new_range]\n",
    "y_new = y[new_range]"
   ]
  },
  {
   "cell_type": "code",
   "execution_count": 7,
   "id": "0e985022",
   "metadata": {},
   "outputs": [],
   "source": [
    "#Activation function and Prediction Accuracy Fn\n",
    "\n",
    "def sigmoid(z):\n",
    "    s = 1/(1+np.exp(-z))\n",
    "    return s\n",
    "\n",
    "def prediction_accuracy(X,y,w):\n",
    "    z = np.matmul(X,w)\n",
    "    preds = sigmoid(z)\n",
    "    y_hat = np.zeros(y.shape[0])\n",
    "    for i in range(len(preds)):\n",
    "        if preds[i]>0.5:\n",
    "            y_hat[i] = 1\n",
    "        else:\n",
    "            y_hat[i] = -1\n",
    "    y_hat = np.array(y_hat)\n",
    "    count = 0\n",
    "    for i in range(y.shape[0]):\n",
    "        if y[i] == y_hat[i]:\n",
    "            count+=1\n",
    "    acc = count/y.shape[0]\n",
    "    return acc"
   ]
  },
  {
   "cell_type": "code",
   "execution_count": 8,
   "id": "12a8d538",
   "metadata": {},
   "outputs": [],
   "source": [
    "#Cost Function\n",
    "\n",
    "def LogisticCost(X,y,w):\n",
    "    z = -np.matmul(X,w)*y\n",
    "    m = X.shape[0]\n",
    "    cost = (1/m)*np.sum(np.log(1+np.exp(z)))\n",
    "    return cost   "
   ]
  },
  {
   "cell_type": "code",
   "execution_count": 9,
   "id": "74f4855a",
   "metadata": {},
   "outputs": [],
   "source": [
    "#Boosted FW functions\n",
    "\n",
    "def gradient(X,y,w):\n",
    "    z = -np.matmul(X,w)*y\n",
    "    dz = np.exp(z)/(1+np.exp(z))\n",
    "    dw = -(1/X.shape[0])*np.matmul(X.T,dz*y)\n",
    "    return dw\n",
    "        \n",
    "\n",
    "def LassoMin(g,T): #LMO\n",
    "    abs_g = np.abs(g)\n",
    "    idx = np.argmax(abs_g)\n",
    "    std_basis_vector = np.zeros(g.shape[0])\n",
    "    std_basis_vector[idx] = 1\n",
    "    return -T*np.sign(g[idx])*std_basis_vector    \n",
    "\n",
    "def LassoMax(g,T): #FW step for boosted FW\n",
    "    abs_g = np.abs(g)\n",
    "    idx = np.argmax(abs_g)\n",
    "    std_basis_vector = np.zeros(g.shape[0])\n",
    "    std_basis_vector[idx] = 1\n",
    "    return T*np.sign(g[idx])*std_basis_vector \n",
    "\n",
    "def proj_IP(r_k,v_k,x_k,d_k): #Projected vector aligned with v_k\n",
    "    if np.linalg.norm(d_k) != 0:\n",
    "        if np.dot(r_k,v_k-x_k)>np.dot(r_k,-d_k/(np.linalg.norm(d_k))):\n",
    "            return v_k-x_k\n",
    "        else:\n",
    "            return -d_k/(np.linalg.norm(d_k))\n",
    "    else:\n",
    "        return v_k-x_k\n",
    "\n",
    "def align(d,d_hat): #alignment measurement\n",
    "    if np.linalg.norm(d_hat) == 0:\n",
    "        return -1\n",
    "    else:\n",
    "        return np.dot(d,d_hat)/(np.linalg.norm(d)*np.linalg.norm(d_hat))"
   ]
  },
  {
   "cell_type": "code",
   "execution_count": 10,
   "id": "aed594d6",
   "metadata": {},
   "outputs": [],
   "source": [
    "#Boosted FW Algorithm\n",
    "\n",
    "def FW_boostedLogisticRegression(w,X,y,K,delta,tau,T,L):\n",
    "    w_0 = LassoMin(gradient(X,y,w),tau)\n",
    "    function_values = []\n",
    "    itr = []\n",
    "    Kt = K\n",
    "    endFlag = False\n",
    "    i=0\n",
    "    while (i <= T) or (endFlag!=True):\n",
    "        d_0 = np.zeros(w_0.shape)\n",
    "        lambda_t = 0\n",
    "        for j in range(Kt):\n",
    "            r_k = -gradient(X,y,w_0)-d_0\n",
    "            v_k = LassoMax(r_k,tau)\n",
    "            u_k = proj_IP(r_k,v_k,w_0,d_0)\n",
    "            lambda_k = np.dot(r_k,u_k)/(np.linalg.norm(u_k)**2)\n",
    "            d_temp = d_0\n",
    "            d_0 = d_0 + lambda_k*u_k\n",
    "            if abs(align(-gradient(X,y,w_0),d_temp)-align(-gradient(X,y,w_0),d_0))>=delta:\n",
    "                if np.array_equal(u_k,v_k-w_0):\n",
    "                    lambda_t = lambda_t + lambda_k\n",
    "                else:\n",
    "                    lambda_t = lambda_t*(1-lambda_k/(np.linalg.norm(d_01)))\n",
    "            else:\n",
    "                Kt = j\n",
    "                break \n",
    "        g_t = d_0/lambda_t\n",
    "        eta_t = align(-gradient(X,y,w_0),g_t)\n",
    "        gamma_t = max(0,min(eta_t*np.linalg.norm(gradient(X,y,w_0))/(L*np.linalg.norm(g_t)),1))\n",
    "        w_0 = w_0 + gamma_t*g_t\n",
    "        itr.append(i)\n",
    "        i +=1 \n",
    "        function_values.append(LogisticCost(X,y,w_0))  \n",
    "        if i%100 == 0:\n",
    "            print(\"Current State\",LogisticCost(X,y,w_0),gamma_t,endFlag)\n",
    "        if abs(np.dot(gradient(X,y,w_0),(w_0-v_k)))<delta:\n",
    "            endFlag = True\n",
    "            break\n",
    "    return function_values,itr,w_0"
   ]
  },
  {
   "cell_type": "code",
   "execution_count": 11,
   "id": "3054423f",
   "metadata": {},
   "outputs": [
    {
     "name": "stdout",
     "output_type": "stream",
     "text": [
      "w_init [0. 0. 0. ... 0. 0. 0.] 10\n",
      "Current State 0.19597980738151421 0.006632015436605692 False\n",
      "Current State 0.18214465602288907 0.004054604723679581 False\n",
      "Current State 0.17705078534924054 0.003164241364651727 False\n"
     ]
    }
   ],
   "source": [
    "#Boosted FW Initialization \n",
    "\n",
    "tau = 10 #Paper l1 norm constraint\n",
    "L = 0.5 #Lipschitz (from paper)\n",
    "delta = 0.0001 #tol (from paper)\n",
    "K = 100000 #ideally inf but high value\n",
    "T = 500 #No of time Steps\n",
    "w = np.zeros(X.shape[1])\n",
    "l = np.random.permutation(X.shape[1])\n",
    "w[l[0:10]]=1 #randomly assign 1 to 10 weight elements\n",
    "print(\"w_init\",w,np.count_nonzero(w))\n",
    "f_values_lr_B,itr_b,w_updated_b = FW_boostedLogisticRegression(w,X_new_np_scaled,y_new,K,delta,tau,T,L)"
   ]
  },
  {
   "cell_type": "code",
   "execution_count": 12,
   "id": "75422a2d",
   "metadata": {},
   "outputs": [
    {
     "name": "stdout",
     "output_type": "stream",
     "text": [
      "Boosted FW Training Accuracy 0.9488333333333333\n",
      "Boosted FW Test Accuracy 0.952\n"
     ]
    }
   ],
   "source": [
    "#Prediction Accuracy of Boosted FW\n",
    "\n",
    "training_acc_b = prediction_accuracy(X_np_scaled,y,w_updated_b)\n",
    "print(\"Boosted FW Training Accuracy\",training_acc_b)\n",
    "\n",
    "test_data_transform = minmaxscaler.transform(np.array(val_train)) #scaling data with same transform\n",
    "test_acc_b = prediction_accuracy(test_data_transform,val_test,w_updated_b)\n",
    "print(\"Boosted FW Test Accuracy\",test_acc_b)"
   ]
  },
  {
   "cell_type": "code",
   "execution_count": 13,
   "id": "3ae29253",
   "metadata": {},
   "outputs": [
    {
     "name": "stdout",
     "output_type": "stream",
     "text": [
      "No of Feautures Selected by Boosted FW: 85\n"
     ]
    }
   ],
   "source": [
    "print(\"No of Feautures Selected by Boosted FW:\",len(np.where(w_updated_b!=0)[0]))"
   ]
  },
  {
   "cell_type": "code",
   "execution_count": 14,
   "id": "a564596c",
   "metadata": {},
   "outputs": [
    {
     "data": {
      "text/plain": [
       "<matplotlib.legend.Legend at 0x7f9d22787670>"
      ]
     },
     "execution_count": 14,
     "metadata": {},
     "output_type": "execute_result"
    },
    {
     "data": {
      "image/png": "[encoded data removed]",
      "text/plain": [
       "<Figure size 640x480 with 1 Axes>"
      ]
     },
     "metadata": {},
     "output_type": "display_data"
    }
   ],
   "source": [
    "#Function-Value Plots\n",
    "\n",
    "plt.semilogy(itr_b, f_values_lr_B, label = 'Boosted FW')\n",
    "plt.xlabel(\"Iterations\")\n",
    "plt.ylabel(\"Function Value\")\n",
    "plt.grid(True)\n",
    "plt.legend(loc = 'upper right')"
   ]
  },
  {
   "cell_type": "code",
   "execution_count": null,
   "id": "9298f3a2",
   "metadata": {},
   "outputs": [],
   "source": []
  }
 ],
 "metadata": {
  "kernelspec": {
   "display_name": "Python 3 (ipykernel)",
   "language": "python",
   "name": "python3"
  },
  "language_info": {
   "codemirror_mode": {
    "name": "ipython",
    "version": 3
   },
   "file_extension": ".py",
   "mimetype": "text/x-python",
   "name": "python",
   "nbconvert_exporter": "python",
   "pygments_lexer": "ipython3",
   "version": "3.8.8"
  }
 },
 "nbformat": 4,
 "nbformat_minor": 5
}
