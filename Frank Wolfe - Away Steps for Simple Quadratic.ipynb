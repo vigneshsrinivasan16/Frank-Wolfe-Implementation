{
 "cells": [
  {
   "cell_type": "code",
   "execution_count": 2,
   "id": "a751f62b",
   "metadata": {},
   "outputs": [],
   "source": [
    "import numpy as np"
   ]
  },
  {
   "cell_type": "code",
   "execution_count": 3,
   "id": "fd65b887",
   "metadata": {},
   "outputs": [],
   "source": [
    "#Simple 2D quadratic\n",
    "\n",
    "def f1(x): #Function\n",
    "    return ((x[0]-0.25)**2)+((x[1]-0.25)**2)\n",
    "\n",
    "def gradf1(x): #Gradient\n",
    "    g = [2*(x[0]-0.25),2*(x[1]-0.25)]\n",
    "    return np.asarray(g)"
   ]
  },
  {
   "cell_type": "code",
   "execution_count": 4,
   "id": "5a3000d3",
   "metadata": {},
   "outputs": [],
   "source": [
    "#General Initializations for simple Quadratic\n",
    "w_init_q = np.array([0,1]) #Initial point\n",
    "L1 = 2 #Lipschitz for quadratic\n",
    "S1 = np.array([[-1,0],[1,0],[0,1]]) #Constrained Set Vertices\n",
    "alpha1 = np.zeros(S1.shape[0]) #Weight Vector for AFW\n",
    "quad_epsilon_tol = 0.05 #tolerance to drop vertices\n",
    "max_iter = 500 #Max number of iterations"
   ]
  },
  {
   "cell_type": "code",
   "execution_count": 7,
   "id": "5b3cfc44",
   "metadata": {},
   "outputs": [],
   "source": [
    "#Away Steps for Simple Quadratic\n",
    "\n",
    "def LP1min(x,S):\n",
    "    idx = np.argmin(np.matmul(S,gradf1(x)))\n",
    "    return S[idx],idx\n",
    "\n",
    "def LP1max(x,S):\n",
    "    S_matrix = []\n",
    "    S_indices = []\n",
    "    for key,value in S.items():\n",
    "        S_matrix.append(value)\n",
    "        S_indices.append(key)\n",
    "    S_matrix = np.array(S_matrix)\n",
    "    idx = np.argmax(np.matmul(S_matrix,gradf1(x)))   \n",
    "    return S_matrix[idx],S_indices[idx]\n",
    "\n",
    "def FW_awaysteps(w_init,S,alpha_0,L,max_iter,epsilon2):\n",
    "    w_0,index = LP1min(w_init,S)\n",
    "    alpha_0[index] = 1\n",
    "    S_0 = {} #Active Set\n",
    "    S_0[index] = w_0 #Adding vertex to active set\n",
    "    it = 0\n",
    "    #flag = None\n",
    "    itr = []\n",
    "    coordinates = []\n",
    "    f_values = []\n",
    "    #endFlag = False\n",
    "    count1 = 0 #Count no of drop steps\n",
    "    count = 0 #Count no of away step selection\n",
    "    while (it <= max_iter): \n",
    "        vt_FW,i_FW = LP1min(w_0,S) \n",
    "        vt_A,i_A = LP1max(w_0,S_0)\n",
    "        if np.dot(gradf1(w_0),w_0-vt_FW)>=np.dot(gradf1(w_0),vt_A-w_0):\n",
    "            d_t = w_0 - vt_FW\n",
    "            gamma_max = 1\n",
    "            #flag = True\n",
    "        else:\n",
    "            d_t = vt_A - w_0\n",
    "            gamma_max = alpha_0[i_A]/(1-alpha_0[i_A])\n",
    "            count +=1 \n",
    "            #flag = False\n",
    "        gamma_t = min(np.dot(gradf1(w_0),d_t)/(L*(np.linalg.norm(d_t)**2)),gamma_max)\n",
    "        w_0 = w_0 - gamma_t*d_t\n",
    "        if np.dot(gradf1(w_0),w_0-vt_FW)>=np.dot(gradf1(w_0),vt_A-w_0):\n",
    "            alpha_0 = (1-gamma_t)*alpha_0\n",
    "            if i_FW in S_0:\n",
    "                alpha_0[i_FW] = alpha_0[i_FW]+gamma_t\n",
    "            else:\n",
    "                alpha_0[i_FW] = gamma_t\n",
    "            if gamma_t <1:\n",
    "                S_0[i_FW] = vt_FW\n",
    "            else:\n",
    "                S_0.clear()\n",
    "                S_0[i_FW] = vt_FW\n",
    "        else:\n",
    "            alpha_0 = (1+gamma_t)*alpha_0\n",
    "            if i_A in S_0:\n",
    "                alpha_0[i_A] = alpha_0[i_A]-gamma_t\n",
    "            if abs(gamma_t-gamma_max)<10*epsilon2: #tol to ensure weight zeroing\n",
    "                #print(\"yes\",gamma_t,gamma_max)\n",
    "                alpha_0[i_A] = 0\n",
    "                S_0.pop(i_A)\n",
    "                count1+=1 \n",
    "        if it%100 == 0:\n",
    "            print(\"Coordinates,gamma_t\",w_0,gamma_t)\n",
    "        itr.append(it)\n",
    "        coordinates.append(w_0)\n",
    "        f_values.append(f1(w_0))\n",
    "        it = it+1\n",
    "    return coordinates,itr,f_values,count1"
   ]
  },
  {
   "cell_type": "code",
   "execution_count": 8,
   "id": "366dd629",
   "metadata": {},
   "outputs": [
    {
     "name": "stdout",
     "output_type": "stream",
     "text": [
      "Coordinates,gamma_t [0.25 0.  ] 0.375\n",
      "Coordinates,gamma_t [0.25 0.25] 0.0\n",
      "Coordinates,gamma_t [0.25 0.25] 0.0\n",
      "Coordinates,gamma_t [0.25 0.25] 0.0\n",
      "Coordinates,gamma_t [0.25 0.25] 0.0\n",
      "Coordinates,gamma_t [0.25 0.25] 0.0\n"
     ]
    }
   ],
   "source": [
    "coordinates1,itr1,f_values1,count1 = FW_awaysteps(w_init_q,S1,alpha1,L1,max_iter,quad_epsilon_tol)"
   ]
  },
  {
   "cell_type": "code",
   "execution_count": 9,
   "id": "66f2c567",
   "metadata": {},
   "outputs": [
    {
     "name": "stdout",
     "output_type": "stream",
     "text": [
      "Drop Steps Count 1\n"
     ]
    }
   ],
   "source": [
    "#No of drop steps\n",
    "print(\"Drop Steps Count:\",count1)"
   ]
  },
  {
   "cell_type": "code",
   "execution_count": null,
   "id": "9f518b65",
   "metadata": {},
   "outputs": [],
   "source": []
  }
 ],
 "metadata": {
  "kernelspec": {
   "display_name": "Python 3 (ipykernel)",
   "language": "python",
   "name": "python3"
  },
  "language_info": {
   "codemirror_mode": {
    "name": "ipython",
    "version": 3
   },
   "file_extension": ".py",
   "mimetype": "text/x-python",
   "name": "python",
   "nbconvert_exporter": "python",
   "pygments_lexer": "ipython3",
   "version": "3.8.8"
  }
 },
 "nbformat": 4,
 "nbformat_minor": 5
}
