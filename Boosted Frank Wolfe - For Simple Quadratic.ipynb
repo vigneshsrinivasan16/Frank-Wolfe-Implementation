{
 "cells": [
  {
   "cell_type": "code",
   "execution_count": 11,
   "id": "6ef361b2",
   "metadata": {},
   "outputs": [],
   "source": [
    "import numpy as np"
   ]
  },
  {
   "cell_type": "code",
   "execution_count": 12,
   "id": "d1342043",
   "metadata": {},
   "outputs": [],
   "source": [
    "#Simple 2D quadratic\n",
    "\n",
    "def f1(x): \n",
    "    return ((x[0]-0.25)**2)+((x[1]-0.25)**2)\n",
    "\n",
    "def gradf1(x):\n",
    "    g = [2*(x[0]-0.25),2*(x[1]-0.25)]\n",
    "    return np.asarray(g)"
   ]
  },
  {
   "cell_type": "code",
   "execution_count": 13,
   "id": "e7309f81",
   "metadata": {},
   "outputs": [],
   "source": [
    "#General Initializations for simple Quadratic\n",
    "w_init_q = np.array([0,1])\n",
    "epsilon_q = 0.00001 #delta criteria\n",
    "L1 = 2 #Lipschitz for quadratic\n",
    "S1 = np.array([[-1,0],[1,0],[0,1]]) #Constrained Set Vertices\n",
    "\n",
    "#Boosted FW initialization \n",
    "\n",
    "K = 10000 #theortically inf\n",
    "T = 50 #max_iter"
   ]
  },
  {
   "cell_type": "code",
   "execution_count": 14,
   "id": "03f1e02a",
   "metadata": {},
   "outputs": [],
   "source": [
    "#Boosted FW for simple quadratic\n",
    "\n",
    "def LPmin_b(x,S): #Check for vertex with min inner product with gradient of f(x)\n",
    "    idx = np.argmin(np.matmul(S,gradf1(x)))\n",
    "    return S[idx],idx\n",
    "\n",
    "def max_IP(x,S): ##Frank Wolfe Step\n",
    "    idx = np.argmax(np.matmul(S,x))\n",
    "    return S[idx],idx\n",
    "\n",
    "def proj_IP(r_k,v_k,x_k,d_k): #Ensure Convergence acc to the paper \n",
    "    if np.linalg.norm(d_k) != 0:\n",
    "        if np.dot(r_k,v_k-x_k)>np.dot(r_k,-d_k/(np.linalg.norm(d_k))):\n",
    "            return v_k-x_k\n",
    "        else:\n",
    "            return -d_k/(np.linalg.norm(d_k))\n",
    "    else:\n",
    "        return v_k-x_k\n",
    "\n",
    "def align(d,d_hat): #Check for alignment\n",
    "    if np.linalg.norm(d_hat) == 0:\n",
    "        return -1\n",
    "    else:\n",
    "        return np.dot(d,d_hat)/(np.linalg.norm(d)*np.linalg.norm(d_hat))\n",
    "    \n",
    "\n",
    "def FW_boosted(y,K,delta,S,T,L):\n",
    "    x_0,idx = LPmin_b(y,S)\n",
    "    coordinates = []\n",
    "    f_values = []\n",
    "    itr = []\n",
    "    Kt = K #Initialize with inf neighbors\n",
    "    i = 0\n",
    "    while i<=T: #Check for max iter\n",
    "        d_0 = np.zeros(x_0.shape)\n",
    "        lambda_t = 0\n",
    "        for j in range(Kt):\n",
    "            r_k = -gradf1(x_0)-d_0\n",
    "            v_k,i1 = max_IP(r_k,S)\n",
    "            u_k = proj_IP(r_k,v_k,x_0,d_0)\n",
    "            lambda_k = np.dot(r_k,u_k)/(np.linalg.norm(u_k)**2)\n",
    "            d_temp = d_0\n",
    "            d_0 = d_0 + lambda_k*u_k\n",
    "            if abs(align(-gradf1(x_0),d_temp)-align(-gradf1(x_0),d_0))>=delta:\n",
    "                if np.array_equal(u_k,v_k-x_0):\n",
    "                    lambda_t = lambda_t + lambda_k\n",
    "                else:\n",
    "                    lambda_t = lambda_t*(1-lambda_k/(np.linalg.norm(d_01)))\n",
    "            else:\n",
    "                Kt = j\n",
    "                break\n",
    "        g_t = d_0/lambda_t\n",
    "        gamma_t = max(0,min(np.dot(-gradf1(x_0),g_t)/(L*(np.linalg.norm(g_t)**2)),1))\n",
    "        x_0 = x_0 + gamma_t*g_t\n",
    "        itr.append(i)\n",
    "        coordinates.append(x_0)  \n",
    "        f_values.append(f1(x_0))\n",
    "        i = i+1\n",
    "        if abs(np.dot(gradf1(x_0),(x_0-v_k)))<delta: #Convergence criteria\n",
    "            endFlag = True\n",
    "            break\n",
    "    return coordinates,itr,f_values"
   ]
  },
  {
   "cell_type": "code",
   "execution_count": 15,
   "id": "5ac87975",
   "metadata": {},
   "outputs": [],
   "source": [
    "coordinates3, itr3,f_values3 = FW_boosted(w_init_q,K,epsilon_q,S1,T,L1)"
   ]
  },
  {
   "cell_type": "code",
   "execution_count": 16,
   "id": "6f248612",
   "metadata": {},
   "outputs": [
    {
     "name": "stdout",
     "output_type": "stream",
     "text": [
      "No of steps for convergence: 2\n"
     ]
    }
   ],
   "source": [
    "print(\"No of steps for convergence:\",len(coordinates3))"
   ]
  },
  {
   "cell_type": "code",
   "execution_count": null,
   "id": "00d288a2",
   "metadata": {},
   "outputs": [],
   "source": []
  }
 ],
 "metadata": {
  "kernelspec": {
   "display_name": "Python 3 (ipykernel)",
   "language": "python",
   "name": "python3"
  },
  "language_info": {
   "codemirror_mode": {
    "name": "ipython",
    "version": 3
   },
   "file_extension": ".py",
   "mimetype": "text/x-python",
   "name": "python",
   "nbconvert_exporter": "python",
   "pygments_lexer": "ipython3",
   "version": "3.8.8"
  }
 },
 "nbformat": 4,
 "nbformat_minor": 5
}
